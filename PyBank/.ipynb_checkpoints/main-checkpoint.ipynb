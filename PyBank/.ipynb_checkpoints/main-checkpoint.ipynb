{
 "cells": [
  {
   "cell_type": "code",
   "execution_count": 1,
   "id": "bae10fb5-4cbf-4bad-9d85-907d81222119",
   "metadata": {},
   "outputs": [],
   "source": [
    "from pathlib import Path\n",
    "import csv"
   ]
  },
  {
   "cell_type": "code",
   "execution_count": 8,
   "id": "b68e8afb-60e6-427b-931c-6cf47004f759",
   "metadata": {},
   "outputs": [],
   "source": [
    "#set the file path\n",
    "csvpath = Path(\"./budget_data.csv\")\n",
    "profits = [] #initializes the variables to hold desired data\n",
    "line_num = 0\n",
    "month_count = []\n",
    "greatest_increase= 0\n",
    "greatest_decrease = 0 \n",
    "greatest_increase_date=\"\"\n",
    "greatest_decrease_date=\"\"\n",
    "avg_change = []\n",
    "monthly_profit_change = []"
   ]
  },
  {
   "cell_type": "code",
   "execution_count": 9,
   "id": "b057bc4b-3ab6-4f69-829e-a079ded4f93b",
   "metadata": {},
   "outputs": [
    {
     "name": "stdout",
     "output_type": "stream",
     "text": [
      "<class '_csv.reader'>\n",
      "['Date', 'Profit/Losses']<---Header\n",
      "Financial Analysis\n",
      "-------------------\n",
      "Total Months: 86\n",
      "Total Profit: 38382578\n",
      "Average Change: -2315.12\n",
      "Greatest Increase in Profits: Feb-2012 1926159\n",
      "Greatest Decrease in Profits: Sep-2013 -2196167\n"
     ]
    }
   ],
   "source": [
    " with open(csvpath, 'r') as csvfile:   \n",
    "    csvreader = csv.reader(csvfile, delimiter=',')\n",
    "    print(type(csvreader))\n",
    "    \n",
    "    header = next(csvreader) #Goes to the next row from the top of the file, first row is header\n",
    "    line_num += 1\n",
    "    #Print the header\n",
    "    print(f\"{header}<---Header\")\n",
    "    \n",
    "    #Read each row of data after the header\n",
    "    for row in csvreader:\n",
    "\n",
    "        \n",
    "        #set profits variable equal to the value of 2nd column in each row, and months count variable to 1st column by appending\n",
    "      \n",
    "        profits.append(int(row[1]))\n",
    "        month_count.append(row[0])\n",
    "        \n",
    "        #Qn 1. Find the total number of months included in the dataset\n",
    "        total_months=len(month_count)\n",
    "  \n",
    "\n",
    "        #Qn 2. Net total amount of profit/loss over the time period\n",
    "        total_profit=sum(profits)\n",
    "\n",
    "\n",
    "        #Qn 3. For average monthly profit/loss, iterate through the profits\n",
    "    for x in range(len(profits)-1):\n",
    "        monthly_profit_change.append(profits[x+1]-profits[x]) #difference between the two months and appending it to monthly change in profit\n",
    "        #avg_change=sum(monthly_profit_change)/len(monthly_profit_change)\n",
    "\n",
    "        #Qn4 and 5.Find the greatest increase in profits (date and amount)\n",
    "        # using the x+1 in the month_count as the month associated with the profit change is the following month\n",
    "    for x in range(len(monthly_profit_change)):\n",
    "        if monthly_profit_change[x] > greatest_increase:\n",
    "            greatest_increase = monthly_profit_change[x]\n",
    "            greatest_increase_date= month_count[x+1]\n",
    "        elif monthly_profit_change[x] < greatest_decrease:\n",
    "            greatest_decrease = monthly_profit_change[x]\n",
    "            greatest_decrease_date=month_count[x+1]\n",
    "\n",
    "\n",
    "#Print Statements\n",
    "print (\"Financial Analysis\")\n",
    "print(\"-------------------\")\n",
    "print(f\"Total Months:\", total_months)\n",
    "print(f\"Total Profit:\", total_profit)\n",
    "print(f\"Average Change:\", round(sum(monthly_profit_change)/len(monthly_profit_change),2))\n",
    "print(f\"Greatest Increase in Profits:\", greatest_increase_date,greatest_increase)\n",
    "print(f\"Greatest Decrease in Profits:\", greatest_decrease_date, greatest_decrease)\n",
    "\n",
    "#Output settings\n",
    "#Set the output file path\n",
    "output_path = Path('financial_analysis.txt')\n",
    "with open(output_path, \"w\") as file: #using w to write to text\n",
    "    file.write(\"Financial Analysis\\n\")\n",
    "    file.write(\"-------------------\\n\")\n",
    "    file.write(f\"Total Months: {total_months}\\n\")\n",
    "    file.write(f\"Total Profit: {total_profit}\\n\")\n",
    "    file.write(f\"Average Change: {round(sum(monthly_profit_change)/len(monthly_profit_change),2)}\\n\")\n",
    "    file.write(f\"Greatest Increase in Profits: {greatest_increase_date, greatest_increase}\\n\")\n",
    "    file.write(f\"Greatest Decrease in Profits: {greatest_decrease_date, greatest_decrease}\\n\")\n",
    "   \n",
    "    "
   ]
  },
  {
   "cell_type": "code",
   "execution_count": null,
   "id": "04ec3147-91ba-4d88-b1d7-72c7d5eb57b1",
   "metadata": {},
   "outputs": [],
   "source": []
  }
 ],
 "metadata": {
  "kernelspec": {
   "display_name": "Python 3 (ipykernel)",
   "language": "python",
   "name": "python3"
  },
  "language_info": {
   "codemirror_mode": {
    "name": "ipython",
    "version": 3
   },
   "file_extension": ".py",
   "mimetype": "text/x-python",
   "name": "python",
   "nbconvert_exporter": "python",
   "pygments_lexer": "ipython3",
   "version": "3.7.11"
  }
 },
 "nbformat": 4,
 "nbformat_minor": 5
}
